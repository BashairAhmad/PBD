#Assignment1 
#Q1
